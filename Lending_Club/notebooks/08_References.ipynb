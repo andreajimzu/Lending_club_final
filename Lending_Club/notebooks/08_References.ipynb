{
 "cells": [
  {
   "cell_type": "markdown",
   "metadata": {},
   "source": [
    "* Authors: Andrea Jiménez Zuñiga e Isabel Afán de Ribera\n",
    "* Date: 04/12/2020\n",
    "* Institution: CUNEF"
   ]
  },
  {
   "cell_type": "markdown",
   "metadata": {},
   "source": [
    "# 08. References"
   ]
  },
  {
   "cell_type": "markdown",
   "metadata": {},
   "source": [
    "* Analytics Vidhya. Complete Guide to Parameter Tuning in XGBoost with codes in Python disponible en https://www.analyticsvidhya.com/blog/2016/03/complete-guide-parameter-tuning-xgboost-with-codes-python/\n",
    "* Albon, C. (2018) Machine Learning with Python Cookbook. First Edition. O’Reilly.\n",
    "* Géron, A. (2019) Hands-on Machine Learning with Scikit-Learn, Keras, and TensorFlow. Second Edition. O’Reilly.\n",
    "* Github ageron handson ml2 disponible en https://github.com/ageron/handson-ml2/blob/master/02_end_to_end_machine_learning_project.ipynb \n",
    "* Machine Learning Mastery (2020). Save and Load Machine Learning Models in Python with scikit-learn disponible en https://machinelearningmastery.com/save-load-machine-learning-models-python-scikit-learn/ \n",
    "* Scikit-learn. Support Vector Machines disponible en https://scikit-learn.org/stable/modules/svm.html\n",
    "* Scikit-learn. Random Forest disponible en https://scikit-learn.org/stable/modules/generated/sklearn.ensemble.RandomForestClassifier.html \n",
    "* The Hyperparameter Cheat Sheet\n",
    "* Towards data science (2018) Demystifying ‘Confusion Matrix’ Confusion disponible en https://towardsdatascience.com/demystifying-confusion-matrix-confusion-9e82201592fd \n",
    "* The Startup (2019) The Hyperparameter Cheat Sheet disponible en https://medium.com/swlh/the-hyperparameter-cheat-sheet-770f1fed32ff \n",
    "* Github disponible en https://github.com/ganevniko/LendingClub-Credit-Risk-Analysis/blob/master/LendingClub.ipynb\n",
    "* Scikit-learn. Classification Report disponible en: https://scikit-learn.org/stable/modules/generated/sklearn.metrics.classification_report.html"
   ]
  }
 ],
 "metadata": {
  "kernelspec": {
   "display_name": "prestamos_env",
   "language": "python",
   "name": "prestamos_env"
  },
  "language_info": {
   "codemirror_mode": {
    "name": "ipython",
    "version": 3
   },
   "file_extension": ".py",
   "mimetype": "text/x-python",
   "name": "python",
   "nbconvert_exporter": "python",
   "pygments_lexer": "ipython3",
   "version": "3.8.3"
  }
 },
 "nbformat": 4,
 "nbformat_minor": 4
}
