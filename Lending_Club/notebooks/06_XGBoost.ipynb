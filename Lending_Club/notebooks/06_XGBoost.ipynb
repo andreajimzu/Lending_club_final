{
 "cells": [
  {
   "cell_type": "markdown",
   "metadata": {},
   "source": [
    "* Authors: Andrea Jiménez Zuñiga e Isabel Afán de Ribera\n",
    "* Date: 04/12/2020\n",
    "* Institution: CUNEF"
   ]
  },
  {
   "cell_type": "markdown",
   "metadata": {},
   "source": [
    "# 06. XGBOOST"
   ]
  },
  {
   "cell_type": "markdown",
   "metadata": {},
   "source": [
    "To validate our model is necessary to split the data set in a training and test set. To do this, the data is randomly divided by applying 80% of the observations to training and the remaining 20% to test."
   ]
  },
  {
   "cell_type": "code",
   "execution_count": 22,
   "metadata": {},
   "outputs": [],
   "source": [
    "import pandas as pd\n",
    "import numpy as np\n",
    "from sklearn.model_selection import train_test_split\n",
    "import xgboost as xgb\n",
    "from sklearn.metrics import accuracy_score\n",
    "from sklearn.model_selection import GridSearchCV\n",
    "from sklearn import metrics  \n",
    "import pickle\n",
    "import warnings\n",
    "warnings.filterwarnings(\"ignore\")\n",
    "from sklearn.metrics import classification_report\n"
   ]
  },
  {
   "cell_type": "markdown",
   "metadata": {},
   "source": [
    "* __Reading the Data File__ "
   ]
  },
  {
   "cell_type": "code",
   "execution_count": 3,
   "metadata": {},
   "outputs": [
    {
     "data": {
      "text/html": [
       "<div>\n",
       "<style scoped>\n",
       "    .dataframe tbody tr th:only-of-type {\n",
       "        vertical-align: middle;\n",
       "    }\n",
       "\n",
       "    .dataframe tbody tr th {\n",
       "        vertical-align: top;\n",
       "    }\n",
       "\n",
       "    .dataframe thead th {\n",
       "        text-align: right;\n",
       "    }\n",
       "</style>\n",
       "<table border=\"1\" class=\"dataframe\">\n",
       "  <thead>\n",
       "    <tr style=\"text-align: right;\">\n",
       "      <th></th>\n",
       "      <th>term</th>\n",
       "      <th>loan_amnt</th>\n",
       "      <th>installment</th>\n",
       "      <th>int_rate</th>\n",
       "      <th>annual_inc</th>\n",
       "      <th>emp_length</th>\n",
       "      <th>revol_util</th>\n",
       "      <th>revol_bal</th>\n",
       "      <th>pub_rec</th>\n",
       "      <th>open_acc</th>\n",
       "      <th>...</th>\n",
       "      <th>delinq_2yrs</th>\n",
       "      <th>dti</th>\n",
       "      <th>tax_liens</th>\n",
       "      <th>pub_rec_bankruptcies</th>\n",
       "      <th>loan_status</th>\n",
       "      <th>home_ownership</th>\n",
       "      <th>purpose</th>\n",
       "      <th>grade</th>\n",
       "      <th>sub_grade</th>\n",
       "      <th>verification_status</th>\n",
       "    </tr>\n",
       "  </thead>\n",
       "  <tbody>\n",
       "    <tr>\n",
       "      <th>0</th>\n",
       "      <td>-0.598017</td>\n",
       "      <td>-0.358869</td>\n",
       "      <td>-0.324389</td>\n",
       "      <td>-1.326914</td>\n",
       "      <td>1.171580</td>\n",
       "      <td>-0.024876</td>\n",
       "      <td>-1.280531</td>\n",
       "      <td>-0.348224</td>\n",
       "      <td>1.201397</td>\n",
       "      <td>1.496916</td>\n",
       "      <td>...</td>\n",
       "      <td>-0.373774</td>\n",
       "      <td>-0.165271</td>\n",
       "      <td>-0.136688</td>\n",
       "      <td>2.147209</td>\n",
       "      <td>1.0</td>\n",
       "      <td>2.0</td>\n",
       "      <td>1.0</td>\n",
       "      <td>0.0</td>\n",
       "      <td>3.0</td>\n",
       "      <td>0.0</td>\n",
       "    </tr>\n",
       "    <tr>\n",
       "      <th>1</th>\n",
       "      <td>-0.598017</td>\n",
       "      <td>-0.871890</td>\n",
       "      <td>-0.614953</td>\n",
       "      <td>2.544662</td>\n",
       "      <td>-0.387948</td>\n",
       "      <td>-1.181062</td>\n",
       "      <td>1.913435</td>\n",
       "      <td>-0.572315</td>\n",
       "      <td>-0.377537</td>\n",
       "      <td>-1.427104</td>\n",
       "      <td>...</td>\n",
       "      <td>-0.373774</td>\n",
       "      <td>-1.402368</td>\n",
       "      <td>-0.136688</td>\n",
       "      <td>-0.371165</td>\n",
       "      <td>1.0</td>\n",
       "      <td>3.0</td>\n",
       "      <td>2.0</td>\n",
       "      <td>4.0</td>\n",
       "      <td>22.0</td>\n",
       "      <td>1.0</td>\n",
       "    </tr>\n",
       "    <tr>\n",
       "      <th>2</th>\n",
       "      <td>-0.598017</td>\n",
       "      <td>-0.836712</td>\n",
       "      <td>-0.823949</td>\n",
       "      <td>-1.326914</td>\n",
       "      <td>0.520515</td>\n",
       "      <td>0.264170</td>\n",
       "      <td>-1.091911</td>\n",
       "      <td>0.316323</td>\n",
       "      <td>-0.377537</td>\n",
       "      <td>1.314164</td>\n",
       "      <td>...</td>\n",
       "      <td>-0.373774</td>\n",
       "      <td>-0.603693</td>\n",
       "      <td>-0.136688</td>\n",
       "      <td>-0.371165</td>\n",
       "      <td>1.0</td>\n",
       "      <td>1.0</td>\n",
       "      <td>2.0</td>\n",
       "      <td>0.0</td>\n",
       "      <td>3.0</td>\n",
       "      <td>0.0</td>\n",
       "    </tr>\n",
       "    <tr>\n",
       "      <th>3</th>\n",
       "      <td>1.672193</td>\n",
       "      <td>-0.543557</td>\n",
       "      <td>-0.782474</td>\n",
       "      <td>0.591176</td>\n",
       "      <td>-0.357984</td>\n",
       "      <td>0.264170</td>\n",
       "      <td>-1.393703</td>\n",
       "      <td>-0.474730</td>\n",
       "      <td>2.780331</td>\n",
       "      <td>0.583159</td>\n",
       "      <td>...</td>\n",
       "      <td>-0.373774</td>\n",
       "      <td>-0.944687</td>\n",
       "      <td>-0.136688</td>\n",
       "      <td>4.665582</td>\n",
       "      <td>1.0</td>\n",
       "      <td>3.0</td>\n",
       "      <td>2.0</td>\n",
       "      <td>2.0</td>\n",
       "      <td>14.0</td>\n",
       "      <td>1.0</td>\n",
       "    </tr>\n",
       "    <tr>\n",
       "      <th>4</th>\n",
       "      <td>-0.598017</td>\n",
       "      <td>-0.074509</td>\n",
       "      <td>0.201280</td>\n",
       "      <td>0.591176</td>\n",
       "      <td>-0.009422</td>\n",
       "      <td>0.264170</td>\n",
       "      <td>1.540387</td>\n",
       "      <td>-0.610936</td>\n",
       "      <td>-0.377537</td>\n",
       "      <td>-1.427104</td>\n",
       "      <td>...</td>\n",
       "      <td>0.716149</td>\n",
       "      <td>-0.859722</td>\n",
       "      <td>-0.136688</td>\n",
       "      <td>-0.371165</td>\n",
       "      <td>1.0</td>\n",
       "      <td>1.0</td>\n",
       "      <td>2.0</td>\n",
       "      <td>2.0</td>\n",
       "      <td>14.0</td>\n",
       "      <td>2.0</td>\n",
       "    </tr>\n",
       "    <tr>\n",
       "      <th>...</th>\n",
       "      <td>...</td>\n",
       "      <td>...</td>\n",
       "      <td>...</td>\n",
       "      <td>...</td>\n",
       "      <td>...</td>\n",
       "      <td>...</td>\n",
       "      <td>...</td>\n",
       "      <td>...</td>\n",
       "      <td>...</td>\n",
       "      <td>...</td>\n",
       "      <td>...</td>\n",
       "      <td>...</td>\n",
       "      <td>...</td>\n",
       "      <td>...</td>\n",
       "      <td>...</td>\n",
       "      <td>...</td>\n",
       "      <td>...</td>\n",
       "      <td>...</td>\n",
       "      <td>...</td>\n",
       "      <td>...</td>\n",
       "      <td>...</td>\n",
       "    </tr>\n",
       "    <tr>\n",
       "      <th>462186</th>\n",
       "      <td>-0.598017</td>\n",
       "      <td>-0.358869</td>\n",
       "      <td>-0.145256</td>\n",
       "      <td>0.496045</td>\n",
       "      <td>-0.760418</td>\n",
       "      <td>1.131309</td>\n",
       "      <td>0.492498</td>\n",
       "      <td>0.088101</td>\n",
       "      <td>-0.377537</td>\n",
       "      <td>-0.513348</td>\n",
       "      <td>...</td>\n",
       "      <td>-0.373774</td>\n",
       "      <td>0.977797</td>\n",
       "      <td>-0.136688</td>\n",
       "      <td>-0.371165</td>\n",
       "      <td>1.0</td>\n",
       "      <td>3.0</td>\n",
       "      <td>1.0</td>\n",
       "      <td>3.0</td>\n",
       "      <td>15.0</td>\n",
       "      <td>2.0</td>\n",
       "    </tr>\n",
       "    <tr>\n",
       "      <th>462187</th>\n",
       "      <td>-0.598017</td>\n",
       "      <td>-0.309033</td>\n",
       "      <td>-0.169311</td>\n",
       "      <td>-0.300393</td>\n",
       "      <td>-0.191114</td>\n",
       "      <td>-1.470109</td>\n",
       "      <td>0.689501</td>\n",
       "      <td>0.215820</td>\n",
       "      <td>-0.377537</td>\n",
       "      <td>0.217657</td>\n",
       "      <td>...</td>\n",
       "      <td>0.716149</td>\n",
       "      <td>0.593754</td>\n",
       "      <td>-0.136688</td>\n",
       "      <td>-0.371165</td>\n",
       "      <td>0.0</td>\n",
       "      <td>1.0</td>\n",
       "      <td>1.0</td>\n",
       "      <td>1.0</td>\n",
       "      <td>9.0</td>\n",
       "      <td>2.0</td>\n",
       "    </tr>\n",
       "    <tr>\n",
       "      <th>462188</th>\n",
       "      <td>1.672193</td>\n",
       "      <td>-0.191771</td>\n",
       "      <td>-0.494991</td>\n",
       "      <td>0.584539</td>\n",
       "      <td>-0.615064</td>\n",
       "      <td>-0.313923</td>\n",
       "      <td>0.337410</td>\n",
       "      <td>-0.236808</td>\n",
       "      <td>1.201397</td>\n",
       "      <td>-0.513348</td>\n",
       "      <td>...</td>\n",
       "      <td>-0.373774</td>\n",
       "      <td>1.410555</td>\n",
       "      <td>-0.136688</td>\n",
       "      <td>2.147209</td>\n",
       "      <td>0.0</td>\n",
       "      <td>3.0</td>\n",
       "      <td>2.0</td>\n",
       "      <td>3.0</td>\n",
       "      <td>16.0</td>\n",
       "      <td>2.0</td>\n",
       "    </tr>\n",
       "    <tr>\n",
       "      <th>462189</th>\n",
       "      <td>1.672193</td>\n",
       "      <td>-0.309033</td>\n",
       "      <td>-0.487920</td>\n",
       "      <td>1.469470</td>\n",
       "      <td>-0.169917</td>\n",
       "      <td>-1.470109</td>\n",
       "      <td>-0.949398</td>\n",
       "      <td>-0.361517</td>\n",
       "      <td>-0.377537</td>\n",
       "      <td>0.948662</td>\n",
       "      <td>...</td>\n",
       "      <td>0.716149</td>\n",
       "      <td>0.990259</td>\n",
       "      <td>-0.136688</td>\n",
       "      <td>-0.371165</td>\n",
       "      <td>0.0</td>\n",
       "      <td>3.0</td>\n",
       "      <td>2.0</td>\n",
       "      <td>4.0</td>\n",
       "      <td>22.0</td>\n",
       "      <td>1.0</td>\n",
       "    </tr>\n",
       "    <tr>\n",
       "      <th>462190</th>\n",
       "      <td>-0.598017</td>\n",
       "      <td>0.629062</td>\n",
       "      <td>0.880132</td>\n",
       "      <td>-0.300393</td>\n",
       "      <td>0.369104</td>\n",
       "      <td>1.131309</td>\n",
       "      <td>1.112848</td>\n",
       "      <td>0.761720</td>\n",
       "      <td>1.201397</td>\n",
       "      <td>-0.696099</td>\n",
       "      <td>...</td>\n",
       "      <td>-0.373774</td>\n",
       "      <td>-0.863121</td>\n",
       "      <td>2.248026</td>\n",
       "      <td>-0.371165</td>\n",
       "      <td>1.0</td>\n",
       "      <td>3.0</td>\n",
       "      <td>1.0</td>\n",
       "      <td>1.0</td>\n",
       "      <td>9.0</td>\n",
       "      <td>2.0</td>\n",
       "    </tr>\n",
       "  </tbody>\n",
       "</table>\n",
       "<p>462191 rows × 21 columns</p>\n",
       "</div>"
      ],
      "text/plain": [
       "            term  loan_amnt  installment  int_rate  annual_inc  emp_length  \\\n",
       "0      -0.598017  -0.358869    -0.324389 -1.326914    1.171580   -0.024876   \n",
       "1      -0.598017  -0.871890    -0.614953  2.544662   -0.387948   -1.181062   \n",
       "2      -0.598017  -0.836712    -0.823949 -1.326914    0.520515    0.264170   \n",
       "3       1.672193  -0.543557    -0.782474  0.591176   -0.357984    0.264170   \n",
       "4      -0.598017  -0.074509     0.201280  0.591176   -0.009422    0.264170   \n",
       "...          ...        ...          ...       ...         ...         ...   \n",
       "462186 -0.598017  -0.358869    -0.145256  0.496045   -0.760418    1.131309   \n",
       "462187 -0.598017  -0.309033    -0.169311 -0.300393   -0.191114   -1.470109   \n",
       "462188  1.672193  -0.191771    -0.494991  0.584539   -0.615064   -0.313923   \n",
       "462189  1.672193  -0.309033    -0.487920  1.469470   -0.169917   -1.470109   \n",
       "462190 -0.598017   0.629062     0.880132 -0.300393    0.369104    1.131309   \n",
       "\n",
       "        revol_util  revol_bal   pub_rec  open_acc  ...  delinq_2yrs       dti  \\\n",
       "0        -1.280531  -0.348224  1.201397  1.496916  ...    -0.373774 -0.165271   \n",
       "1         1.913435  -0.572315 -0.377537 -1.427104  ...    -0.373774 -1.402368   \n",
       "2        -1.091911   0.316323 -0.377537  1.314164  ...    -0.373774 -0.603693   \n",
       "3        -1.393703  -0.474730  2.780331  0.583159  ...    -0.373774 -0.944687   \n",
       "4         1.540387  -0.610936 -0.377537 -1.427104  ...     0.716149 -0.859722   \n",
       "...            ...        ...       ...       ...  ...          ...       ...   \n",
       "462186    0.492498   0.088101 -0.377537 -0.513348  ...    -0.373774  0.977797   \n",
       "462187    0.689501   0.215820 -0.377537  0.217657  ...     0.716149  0.593754   \n",
       "462188    0.337410  -0.236808  1.201397 -0.513348  ...    -0.373774  1.410555   \n",
       "462189   -0.949398  -0.361517 -0.377537  0.948662  ...     0.716149  0.990259   \n",
       "462190    1.112848   0.761720  1.201397 -0.696099  ...    -0.373774 -0.863121   \n",
       "\n",
       "        tax_liens  pub_rec_bankruptcies  loan_status  home_ownership  purpose  \\\n",
       "0       -0.136688              2.147209          1.0             2.0      1.0   \n",
       "1       -0.136688             -0.371165          1.0             3.0      2.0   \n",
       "2       -0.136688             -0.371165          1.0             1.0      2.0   \n",
       "3       -0.136688              4.665582          1.0             3.0      2.0   \n",
       "4       -0.136688             -0.371165          1.0             1.0      2.0   \n",
       "...           ...                   ...          ...             ...      ...   \n",
       "462186  -0.136688             -0.371165          1.0             3.0      1.0   \n",
       "462187  -0.136688             -0.371165          0.0             1.0      1.0   \n",
       "462188  -0.136688              2.147209          0.0             3.0      2.0   \n",
       "462189  -0.136688             -0.371165          0.0             3.0      2.0   \n",
       "462190   2.248026             -0.371165          1.0             3.0      1.0   \n",
       "\n",
       "        grade  sub_grade  verification_status  \n",
       "0         0.0        3.0                  0.0  \n",
       "1         4.0       22.0                  1.0  \n",
       "2         0.0        3.0                  0.0  \n",
       "3         2.0       14.0                  1.0  \n",
       "4         2.0       14.0                  2.0  \n",
       "...       ...        ...                  ...  \n",
       "462186    3.0       15.0                  2.0  \n",
       "462187    1.0        9.0                  2.0  \n",
       "462188    3.0       16.0                  2.0  \n",
       "462189    4.0       22.0                  1.0  \n",
       "462190    1.0        9.0                  2.0  \n",
       "\n",
       "[462191 rows x 21 columns]"
      ]
     },
     "execution_count": 3,
     "metadata": {},
     "output_type": "execute_result"
    }
   ],
   "source": [
    "data_path = '../data/Engineering_loans_final_3.csv'\n",
    "loans = pd.read_csv(data_path)\n",
    "loans"
   ]
  },
  {
   "cell_type": "code",
   "execution_count": 4,
   "metadata": {},
   "outputs": [],
   "source": [
    "#loans = loans.iloc[:,1:500]\n",
    "#data = data.dropna()\n",
    "#loans.head()"
   ]
  },
  {
   "cell_type": "markdown",
   "metadata": {},
   "source": [
    "* __Splitting the data into train and test set__"
   ]
  },
  {
   "cell_type": "markdown",
   "metadata": {},
   "source": [
    "Here we split in training and test."
   ]
  },
  {
   "cell_type": "code",
   "execution_count": 5,
   "metadata": {},
   "outputs": [],
   "source": [
    "X = loans.drop(['loan_status'], axis = 1).values\n",
    "Y = loans['loan_status'].values\n",
    "\n",
    "X_train, X_test, Y_train, Y_test = train_test_split(X, Y, test_size = 0.2, random_state = 12345)"
   ]
  },
  {
   "cell_type": "markdown",
   "metadata": {},
   "source": [
    "* __Fitting the model and Prediction__"
   ]
  },
  {
   "cell_type": "code",
   "execution_count": 10,
   "metadata": {},
   "outputs": [
    {
     "name": "stdout",
     "output_type": "stream",
     "text": [
      "CPU times: user 11min 31s, sys: 1min 18s, total: 12min 50s\n",
      "Wall time: 3min 17s\n"
     ]
    },
    {
     "data": {
      "text/plain": [
       "XGBClassifier(base_score=0.5, booster='gbtree', colsample_bylevel=1,\n",
       "              colsample_bynode=1, colsample_bytree=0.8, gamma=0, gpu_id=-1,\n",
       "              importance_type='gain', interaction_constraints='',\n",
       "              learning_rate=0.300000012, max_delta_step=0, max_depth=6,\n",
       "              min_child_weight=1, missing=nan, monotone_constraints='()',\n",
       "              n_estimators=500, n_jobs=6, nthread=6, num_parallel_tree=1,\n",
       "              random_state=12345, reg_alpha=0, reg_lambda=1, scale_pos_weight=1,\n",
       "              seed=12345, subsample=0.8, tree_method='exact',\n",
       "              validate_parameters=1, verbosity=None)"
      ]
     },
     "execution_count": 10,
     "metadata": {},
     "output_type": "execute_result"
    }
   ],
   "source": [
    "%%time\n",
    "xgboost = xgb.XGBClassifier(n_estimators=500, subsample=0.8,\n",
    "                            colsample_bytree=0.8,objective= 'binary:logistic',\n",
    "                            scale_pos_weight=1, seed=12345, nthread = 6)\n",
    "xgboost.fit(X_train, Y_train)"
   ]
  },
  {
   "cell_type": "markdown",
   "metadata": {},
   "source": [
    "Next, we make the predictions using the subset above, which is the test set."
   ]
  },
  {
   "cell_type": "code",
   "execution_count": 11,
   "metadata": {},
   "outputs": [],
   "source": [
    "Y_pred_XGBoost2 = xgboost.predict(X_test)"
   ]
  },
  {
   "cell_type": "code",
   "execution_count": 12,
   "metadata": {},
   "outputs": [
    {
     "data": {
      "text/plain": [
       "0.7536429429137053"
      ]
     },
     "execution_count": 12,
     "metadata": {},
     "output_type": "execute_result"
    }
   ],
   "source": [
    "accuracy_score(Y_test, Y_pred_XGBoost2)"
   ]
  },
  {
   "cell_type": "markdown",
   "metadata": {},
   "source": [
    "In this case we can see that the accuracy is 75%."
   ]
  },
  {
   "cell_type": "markdown",
   "metadata": {},
   "source": [
    "## Model Evaluation"
   ]
  },
  {
   "cell_type": "markdown",
   "metadata": {},
   "source": [
    "* __Confussion Matrix__"
   ]
  },
  {
   "cell_type": "markdown",
   "metadata": {},
   "source": [
    "In order to be able to illustrate the confusion matrix, a function called plot_confusion_matrix has been defined, indicating the parameters to be taken into account."
   ]
  },
  {
   "cell_type": "code",
   "execution_count": 13,
   "metadata": {},
   "outputs": [],
   "source": [
    "import matplotlib.pyplot as plt\n",
    "from sklearn.metrics import classification_report, confusion_matrix\n",
    "from sklearn.metrics import confusion_matrix\n",
    "import itertools # aplanar arrays\n",
    "\n",
    "\n",
    "def plot_confusion_matrix(cm, classes,\n",
    "                          normalize=False,\n",
    "                          title='Confusion matrix',\n",
    "                          cmap=plt.cm.Blues):\n",
    "    #Add Normalization Option\n",
    "    if normalize:\n",
    "        cm = cm.astype('float') / cm.sum(axis=1)[:, np.newaxis]\n",
    "        print(\"Normalized confusion matrix\")\n",
    "    else:\n",
    "        print('Confusion matrix, without normalization')\n",
    "\n",
    "    print(cm)\n",
    "\n",
    "    plt.imshow(cm, interpolation='nearest', cmap=cmap)\n",
    "    plt.title(title)\n",
    "    plt.colorbar()\n",
    "    tick_marks = np.arange(len(classes))\n",
    "    plt.xticks(tick_marks, classes, rotation=45)\n",
    "    plt.yticks(tick_marks, classes)\n",
    "\n",
    "    fmt = '.2f' if normalize else 'd'\n",
    "    thresh = cm.max() / 2.\n",
    "    for i, j in itertools.product(range(cm.shape[0]), range(cm.shape[1])):\n",
    "        plt.text(j, i, format(cm[i, j], fmt),\n",
    "                 horizontalalignment=\"center\",\n",
    "                 color=\"white\" if cm[i, j] > thresh else \"black\")\n",
    "\n",
    "    plt.tight_layout()\n",
    "    plt.ylabel('True label')\n",
    "    plt.xlabel('Predicted label')"
   ]
  },
  {
   "cell_type": "markdown",
   "metadata": {},
   "source": [
    "We proceed to graph the confussion matrix:"
   ]
  },
  {
   "cell_type": "code",
   "execution_count": 14,
   "metadata": {},
   "outputs": [
    {
     "name": "stdout",
     "output_type": "stream",
     "text": [
      "Confusion matrix, without normalization\n",
      "[[ 5076 18360]\n",
      " [ 4413 64590]]\n",
      "              precision    recall  f1-score   support\n",
      "\n",
      "         0.0       0.53      0.22      0.31     23436\n",
      "         1.0       0.78      0.94      0.85     69003\n",
      "\n",
      "    accuracy                           0.75     92439\n",
      "   macro avg       0.66      0.58      0.58     92439\n",
      "weighted avg       0.72      0.75      0.71     92439\n",
      "\n"
     ]
    },
    {
     "data": {
      "image/png": "[encoded data removed]",
      "text/plain": [
       "<Figure size 432x288 with 2 Axes>"
      ]
     },
     "metadata": {
      "needs_background": "light"
     },
     "output_type": "display_data"
    }
   ],
   "source": [
    "cnf_matrix = confusion_matrix(Y_test, Y_pred_XGBoost2)\n",
    "plot_confusion_matrix(cnf_matrix, classes=[0,1])\n",
    "print(classification_report(Y_test,Y_pred_XGBoost2))"
   ]
  },
  {
   "cell_type": "code",
   "execution_count": 15,
   "metadata": {},
   "outputs": [
    {
     "name": "stdout",
     "output_type": "stream",
     "text": [
      "True Negatives:  5076\n",
      "False Positives:  18360\n",
      "False Negatives:  4413\n",
      "True Positives:  64590\n"
     ]
    }
   ],
   "source": [
    "#extracting true_positives, false_positives, true_negatives, false_negatives\n",
    "tn, fp, fn, tp = confusion_matrix(Y_test, Y_pred_XGBoost2).ravel()\n",
    "print(\"True Negatives: \",tn)\n",
    "print(\"False Positives: \",fp)\n",
    "print(\"False Negatives: \",fn)\n",
    "print(\"True Positives: \",tp)"
   ]
  },
  {
   "cell_type": "markdown",
   "metadata": {},
   "source": [
    "With the confusion matrix we can see that there are 64.590 true positives in total, which means that those loans that have been classified as fully paid are correctly placed.\n",
    "\n",
    "On the other hand,  we can see that there are 5.076 true negatives in total, which means that those loans that have been classified as not paid are correctly placed.\n",
    "\n",
    "It can be seen as well, that there is a total of 18.360 and 4.413 false positives and false negatives, respectively. This means that these loans have been misplaced."
   ]
  },
  {
   "cell_type": "markdown",
   "metadata": {},
   "source": [
    "* __Normalized Confussion Matrix__"
   ]
  },
  {
   "cell_type": "code",
   "execution_count": 16,
   "metadata": {},
   "outputs": [],
   "source": [
    "def plot_confusion_matrix(cm, classes,\n",
    "                          normalize=True,\n",
    "                          title='Confusion matrix',\n",
    "                          cmap=plt.cm.Blues):\n",
    "    #Add Normalization Option\n",
    "    if normalize:\n",
    "        cm = cm.astype('float') / cm.sum(axis=1)[:, np.newaxis]\n",
    "        print(\"Normalized confusion matrix\")\n",
    "    else:\n",
    "        print('Confusion matrix, without normalization')\n",
    "\n",
    "    print(cm)\n",
    "\n",
    "    plt.imshow(cm, interpolation='nearest', cmap=cmap)\n",
    "    plt.title(title)\n",
    "    plt.colorbar()\n",
    "    tick_marks = np.arange(len(classes))\n",
    "    plt.xticks(tick_marks, classes, rotation=45)\n",
    "    plt.yticks(tick_marks, classes)\n",
    "\n",
    "    fmt = '.2f' if normalize else 'd'\n",
    "    thresh = cm.max() / 2.\n",
    "    for i, j in itertools.product(range(cm.shape[0]), range(cm.shape[1])):\n",
    "        plt.text(j, i, format(cm[i, j], fmt),\n",
    "                 horizontalalignment=\"center\",\n",
    "                 color=\"white\" if cm[i, j] > thresh else \"black\")\n",
    "\n",
    "    plt.tight_layout()\n",
    "    plt.ylabel('True label')\n",
    "    plt.xlabel('Predicted label')"
   ]
  },
  {
   "cell_type": "code",
   "execution_count": 17,
   "metadata": {},
   "outputs": [
    {
     "name": "stdout",
     "output_type": "stream",
     "text": [
      "Normalized confusion matrix\n",
      "[[0.21658986 0.78341014]\n",
      " [0.06395374 0.93604626]]\n"
     ]
    },
    {
     "data": {
      "image/png": "[encoded data removed]",
      "text/plain": [
       "<Figure size 432x288 with 2 Axes>"
      ]
     },
     "metadata": {
      "needs_background": "light"
     },
     "output_type": "display_data"
    }
   ],
   "source": [
    "cnf_matrix = confusion_matrix(Y_test, Y_pred_XGBoost2)\n",
    "plot_confusion_matrix(cnf_matrix, classes=[0,1])"
   ]
  },
  {
   "cell_type": "code",
   "execution_count": 19,
   "metadata": {},
   "outputs": [
    {
     "data": {
      "text/plain": [
       "0.7536429429137053"
      ]
     },
     "execution_count": 19,
     "metadata": {},
     "output_type": "execute_result"
    }
   ],
   "source": [
    "xgboost.score(X_test, Y_test)"
   ]
  },
  {
   "cell_type": "markdown",
   "metadata": {},
   "source": [
    "* __Precision, Accuracy, Recall, F1-score and Support__"
   ]
  },
  {
   "cell_type": "code",
   "execution_count": 20,
   "metadata": {},
   "outputs": [
    {
     "name": "stdout",
     "output_type": "stream",
     "text": [
      "XGBoost\n",
      "              precision    recall  f1-score   support\n",
      "\n",
      "         0.0       0.53      0.22      0.31     23436\n",
      "         1.0       0.78      0.94      0.85     69003\n",
      "\n",
      "    accuracy                           0.75     92439\n",
      "   macro avg       0.66      0.58      0.58     92439\n",
      "weighted avg       0.72      0.75      0.71     92439\n",
      "\n",
      "Accuracy of XGBoost classifier on test set: 0.75\n",
      "\n"
     ]
    }
   ],
   "source": [
    "print('XGBoost')\n",
    "print(classification_report(Y_test,Y_pred_XGBoost2))\n",
    "print('Accuracy of XGBoost classifier on test set: {:.2f}'.format(xgboost.score(X_test, Y_test)))\n",
    "print('')"
   ]
  },
  {
   "cell_type": "markdown",
   "metadata": {},
   "source": [
    "* __ROC Curve__"
   ]
  },
  {
   "cell_type": "code",
   "execution_count": 23,
   "metadata": {},
   "outputs": [
    {
     "data": {
      "image/png": "[encoded data removed]",
      "text/plain": [
       "<Figure size 432x288 with 1 Axes>"
      ]
     },
     "metadata": {
      "needs_background": "light"
     },
     "output_type": "display_data"
    },
    {
     "name": "stdout",
     "output_type": "stream",
     "text": [
      "XGBoost score train:  0.8030139120275211\n",
      "XGBoost score:  0.7536429429137053\n"
     ]
    }
   ],
   "source": [
    "metrics.plot_roc_curve(xgboost, X_test, Y_test)\n",
    "plt.show()                     \n",
    "print(\"XGBoost score train: \", xgboost.score(X_train, Y_train))\n",
    "print(\"XGBoost score: \", xgboost.score(X_test, Y_test))"
   ]
  },
  {
   "cell_type": "markdown",
   "metadata": {},
   "source": [
    "* __Feature Importances__"
   ]
  },
  {
   "cell_type": "code",
   "execution_count": 39,
   "metadata": {},
   "outputs": [],
   "source": [
    "X_col = loans.drop(['loan_status'], axis = 1)\n",
    "Y_col = loans['loan_status']"
   ]
  },
  {
   "cell_type": "code",
   "execution_count": 38,
   "metadata": {},
   "outputs": [],
   "source": [
    "def plot_feature_importances(xgboost,X_train):\n",
    "    \n",
    "    xaxes=list(X_col.columns.values)\n",
    "    yaxes=list(xgboost.feature_importances_)\n",
    "    \n",
    "    h=dict(zip(xaxes,yaxes))\n",
    "    s = [(k, h[k]) for k in sorted(h, key=h.get, reverse=False)]\n",
    "    s=dict(s)\n",
    "    xaxes=list(s.keys())\n",
    "    yaxes=list(s.values())\n",
    "    \n",
    "    n_features = X_col.shape[1]\n",
    "    plt.figure(figsize=(8,8))\n",
    "    plt.barh(range(n_features), yaxes, align='center') \n",
    "    plt.yticks(np.arange(n_features), xaxes) \n",
    "    plt.xlabel(\"Feature importance\")\n",
    "    plt.ylabel(\"Feature\")"
   ]
  },
  {
   "cell_type": "code",
   "execution_count": 40,
   "metadata": {},
   "outputs": [
    {
     "data": {
      "image/png": "[encoded data removed]",
      "text/plain": [
       "<Figure size 576x576 with 1 Axes>"
      ]
     },
     "metadata": {
      "needs_background": "light"
     },
     "output_type": "display_data"
    }
   ],
   "source": [
    "plot_feature_importances(xgboost,X_train)"
   ]
  },
  {
   "cell_type": "markdown",
   "metadata": {},
   "source": [
    "* **Errors**"
   ]
  },
  {
   "cell_type": "code",
   "execution_count": 44,
   "metadata": {},
   "outputs": [
    {
     "name": "stdout",
     "output_type": "stream",
     "text": [
      "Mean Absolute Error: 0.24635705708629474\n",
      "Mean Squared Error: 0.24635705708629474\n",
      "Root Mean Squared Error: 0.4963436884723072\n"
     ]
    }
   ],
   "source": [
    "print('Mean Absolute Error:', metrics.mean_absolute_error(Y_test, Y_pred_XGBoost2))  \n",
    "print('Mean Squared Error:', metrics.mean_squared_error(Y_test, Y_pred_XGBoost2))  \n",
    "print('Root Mean Squared Error:', np.sqrt(metrics.mean_squared_error(Y_test, Y_pred_XGBoost2)))"
   ]
  },
  {
   "cell_type": "markdown",
   "metadata": {},
   "source": [
    "* __Using hyperparameters__"
   ]
  },
  {
   "cell_type": "code",
   "execution_count": 41,
   "metadata": {},
   "outputs": [],
   "source": [
    "param_test2 = {\n",
    " 'learning_rate':np.arange(0.1,2.0,0.2),\n",
    " 'objective':['binary:logistic'],\n",
    " 'gamma': [0.5, 1, 1.5, 2],\n",
    " 'subsample': [0.6, 0.8, 1.0],\n",
    " 'colsample_bytree': [0.6, 0.8, 1.0],\n",
    " 'max_depth': [3, 4, 5, 8]\n",
    "}\n",
    "gsearch_XGBoost = GridSearchCV(estimator = xgb.XGBClassifier(n_estimators=500, subsample=0.8,\n",
    "                                                             colsample_bytree=0.8,objective= 'binary:logistic',\n",
    "                                                             scale_pos_weight=1, seed=12345, nthread = 6), \n",
    "                               param_grid = param_test2, scoring='roc_auc',n_jobs=-2,iid=False, cv=5)\n",
    "gsearch_XGBoost.fit(X_train, Y_train)\n",
    "\n"
   ]
  },
  {
   "cell_type": "code",
   "execution_count": null,
   "metadata": {},
   "outputs": [],
   "source": [
    "%%time\n",
    "gsearch_XGBoost2 = gsearch_XGBoost.best_estimator_\n",
    "gsearch_XGBoost2.fit(X_train, Y_train)"
   ]
  },
  {
   "cell_type": "code",
   "execution_count": 6,
   "metadata": {},
   "outputs": [],
   "source": [
    "Y_pred_XGBoost2 = gsearch_XGBoost2.predict(X_test)"
   ]
  },
  {
   "cell_type": "markdown",
   "metadata": {},
   "source": [
    "* __Saving the model__ "
   ]
  },
  {
   "cell_type": "code",
   "execution_count": 43,
   "metadata": {},
   "outputs": [],
   "source": [
    "model = xgboost\n",
    "filename = 'modelo_xgboost.pkl'\n",
    "pickle.dump(model,open(filename,'wb'))"
   ]
  }
 ],
 "metadata": {
  "kernelspec": {
   "display_name": "prestamos_env",
   "language": "python",
   "name": "prestamos_env"
  },
  "language_info": {
   "codemirror_mode": {
    "name": "ipython",
    "version": 3
   },
   "file_extension": ".py",
   "mimetype": "text/x-python",
   "name": "python",
   "nbconvert_exporter": "python",
   "pygments_lexer": "ipython3",
   "version": "3.8.3"
  }
 },
 "nbformat": 4,
 "nbformat_minor": 4
}
