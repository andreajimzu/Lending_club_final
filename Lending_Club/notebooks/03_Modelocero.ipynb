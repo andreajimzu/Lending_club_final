{
 "cells": [
  {
   "cell_type": "markdown",
   "metadata": {},
   "source": [
    "* Authors: Andrea Jiménez Zuñiga e Isabel Afán de Ribera\n",
    "* Date: 04/12/2020\n",
    "* Institution: CUNEF"
   ]
  },
  {
   "cell_type": "markdown",
   "metadata": {},
   "source": [
    "# 03. BASELINE AND REGRESSION MODEL"
   ]
  },
  {
   "cell_type": "markdown",
   "metadata": {},
   "source": [
    "## BASELINE MODEL"
   ]
  },
  {
   "cell_type": "markdown",
   "metadata": {},
   "source": [
    "To validate our model is necessary to split the data set in a training and test set. \n",
    "To do this, the data is randomly divided by applying 80% of the observations to training and the remaining 20% to test. \n",
    "\n"
   ]
  },
  {
   "cell_type": "code",
   "execution_count": 1,
   "metadata": {},
   "outputs": [],
   "source": [
    "import pandas as pd \n",
    "import matplotlib.pyplot as plt\n",
    "import numpy as np\n",
    "import pickle\n",
    "from sklearn import metrics\n",
    "from sklearn.linear_model import LogisticRegression # Log Regression\n",
    "from sklearn.model_selection import train_test_split # split data\n",
    "from sklearn.dummy import DummyClassifier\n",
    "import itertools # aplanar arrays\n",
    "from sklearn.metrics import confusion_matrix\n",
    "from sklearn.metrics import roc_curve, roc_auc_score, plot_roc_curve\n",
    "from imblearn.over_sampling import SMOTE\n",
    "import warnings\n",
    "warnings.filterwarnings(\"ignore\")\n",
    "from sklearn.metrics import classification_report\n"
   ]
  },
  {
   "cell_type": "markdown",
   "metadata": {},
   "source": [
    "* __Reading the Data File__ "
   ]
  },
  {
   "cell_type": "code",
   "execution_count": 3,
   "metadata": {},
   "outputs": [
    {
     "data": {
      "text/html": [
       "<div>\n",
       "<style scoped>\n",
       "    .dataframe tbody tr th:only-of-type {\n",
       "        vertical-align: middle;\n",
       "    }\n",
       "\n",
       "    .dataframe tbody tr th {\n",
       "        vertical-align: top;\n",
       "    }\n",
       "\n",
       "    .dataframe thead th {\n",
       "        text-align: right;\n",
       "    }\n",
       "</style>\n",
       "<table border=\"1\" class=\"dataframe\">\n",
       "  <thead>\n",
       "    <tr style=\"text-align: right;\">\n",
       "      <th></th>\n",
       "      <th>term</th>\n",
       "      <th>loan_amnt</th>\n",
       "      <th>installment</th>\n",
       "      <th>int_rate</th>\n",
       "      <th>annual_inc</th>\n",
       "      <th>emp_length</th>\n",
       "      <th>revol_util</th>\n",
       "      <th>revol_bal</th>\n",
       "      <th>pub_rec</th>\n",
       "      <th>open_acc</th>\n",
       "      <th>...</th>\n",
       "      <th>delinq_2yrs</th>\n",
       "      <th>dti</th>\n",
       "      <th>tax_liens</th>\n",
       "      <th>pub_rec_bankruptcies</th>\n",
       "      <th>loan_status</th>\n",
       "      <th>home_ownership</th>\n",
       "      <th>purpose</th>\n",
       "      <th>grade</th>\n",
       "      <th>sub_grade</th>\n",
       "      <th>verification_status</th>\n",
       "    </tr>\n",
       "  </thead>\n",
       "  <tbody>\n",
       "    <tr>\n",
       "      <th>0</th>\n",
       "      <td>-0.598017</td>\n",
       "      <td>-0.358869</td>\n",
       "      <td>-0.324389</td>\n",
       "      <td>-1.326914</td>\n",
       "      <td>1.171580</td>\n",
       "      <td>-0.024876</td>\n",
       "      <td>-1.280531</td>\n",
       "      <td>-0.348224</td>\n",
       "      <td>1.201397</td>\n",
       "      <td>1.496916</td>\n",
       "      <td>...</td>\n",
       "      <td>-0.373774</td>\n",
       "      <td>-0.165271</td>\n",
       "      <td>-0.136688</td>\n",
       "      <td>2.147209</td>\n",
       "      <td>1.0</td>\n",
       "      <td>2.0</td>\n",
       "      <td>1.0</td>\n",
       "      <td>0.0</td>\n",
       "      <td>3.0</td>\n",
       "      <td>0.0</td>\n",
       "    </tr>\n",
       "    <tr>\n",
       "      <th>1</th>\n",
       "      <td>-0.598017</td>\n",
       "      <td>-0.871890</td>\n",
       "      <td>-0.614953</td>\n",
       "      <td>2.544662</td>\n",
       "      <td>-0.387948</td>\n",
       "      <td>-1.181062</td>\n",
       "      <td>1.913435</td>\n",
       "      <td>-0.572315</td>\n",
       "      <td>-0.377537</td>\n",
       "      <td>-1.427104</td>\n",
       "      <td>...</td>\n",
       "      <td>-0.373774</td>\n",
       "      <td>-1.402368</td>\n",
       "      <td>-0.136688</td>\n",
       "      <td>-0.371165</td>\n",
       "      <td>1.0</td>\n",
       "      <td>3.0</td>\n",
       "      <td>2.0</td>\n",
       "      <td>4.0</td>\n",
       "      <td>22.0</td>\n",
       "      <td>1.0</td>\n",
       "    </tr>\n",
       "    <tr>\n",
       "      <th>2</th>\n",
       "      <td>-0.598017</td>\n",
       "      <td>-0.836712</td>\n",
       "      <td>-0.823949</td>\n",
       "      <td>-1.326914</td>\n",
       "      <td>0.520515</td>\n",
       "      <td>0.264170</td>\n",
       "      <td>-1.091911</td>\n",
       "      <td>0.316323</td>\n",
       "      <td>-0.377537</td>\n",
       "      <td>1.314164</td>\n",
       "      <td>...</td>\n",
       "      <td>-0.373774</td>\n",
       "      <td>-0.603693</td>\n",
       "      <td>-0.136688</td>\n",
       "      <td>-0.371165</td>\n",
       "      <td>1.0</td>\n",
       "      <td>1.0</td>\n",
       "      <td>2.0</td>\n",
       "      <td>0.0</td>\n",
       "      <td>3.0</td>\n",
       "      <td>0.0</td>\n",
       "    </tr>\n",
       "    <tr>\n",
       "      <th>3</th>\n",
       "      <td>1.672193</td>\n",
       "      <td>-0.543557</td>\n",
       "      <td>-0.782474</td>\n",
       "      <td>0.591176</td>\n",
       "      <td>-0.357984</td>\n",
       "      <td>0.264170</td>\n",
       "      <td>-1.393703</td>\n",
       "      <td>-0.474730</td>\n",
       "      <td>2.780331</td>\n",
       "      <td>0.583159</td>\n",
       "      <td>...</td>\n",
       "      <td>-0.373774</td>\n",
       "      <td>-0.944687</td>\n",
       "      <td>-0.136688</td>\n",
       "      <td>4.665582</td>\n",
       "      <td>1.0</td>\n",
       "      <td>3.0</td>\n",
       "      <td>2.0</td>\n",
       "      <td>2.0</td>\n",
       "      <td>14.0</td>\n",
       "      <td>1.0</td>\n",
       "    </tr>\n",
       "    <tr>\n",
       "      <th>4</th>\n",
       "      <td>-0.598017</td>\n",
       "      <td>-0.074509</td>\n",
       "      <td>0.201280</td>\n",
       "      <td>0.591176</td>\n",
       "      <td>-0.009422</td>\n",
       "      <td>0.264170</td>\n",
       "      <td>1.540387</td>\n",
       "      <td>-0.610936</td>\n",
       "      <td>-0.377537</td>\n",
       "      <td>-1.427104</td>\n",
       "      <td>...</td>\n",
       "      <td>0.716149</td>\n",
       "      <td>-0.859722</td>\n",
       "      <td>-0.136688</td>\n",
       "      <td>-0.371165</td>\n",
       "      <td>1.0</td>\n",
       "      <td>1.0</td>\n",
       "      <td>2.0</td>\n",
       "      <td>2.0</td>\n",
       "      <td>14.0</td>\n",
       "      <td>2.0</td>\n",
       "    </tr>\n",
       "    <tr>\n",
       "      <th>...</th>\n",
       "      <td>...</td>\n",
       "      <td>...</td>\n",
       "      <td>...</td>\n",
       "      <td>...</td>\n",
       "      <td>...</td>\n",
       "      <td>...</td>\n",
       "      <td>...</td>\n",
       "      <td>...</td>\n",
       "      <td>...</td>\n",
       "      <td>...</td>\n",
       "      <td>...</td>\n",
       "      <td>...</td>\n",
       "      <td>...</td>\n",
       "      <td>...</td>\n",
       "      <td>...</td>\n",
       "      <td>...</td>\n",
       "      <td>...</td>\n",
       "      <td>...</td>\n",
       "      <td>...</td>\n",
       "      <td>...</td>\n",
       "      <td>...</td>\n",
       "    </tr>\n",
       "    <tr>\n",
       "      <th>462186</th>\n",
       "      <td>-0.598017</td>\n",
       "      <td>-0.358869</td>\n",
       "      <td>-0.145256</td>\n",
       "      <td>0.496045</td>\n",
       "      <td>-0.760418</td>\n",
       "      <td>1.131309</td>\n",
       "      <td>0.492498</td>\n",
       "      <td>0.088101</td>\n",
       "      <td>-0.377537</td>\n",
       "      <td>-0.513348</td>\n",
       "      <td>...</td>\n",
       "      <td>-0.373774</td>\n",
       "      <td>0.977797</td>\n",
       "      <td>-0.136688</td>\n",
       "      <td>-0.371165</td>\n",
       "      <td>1.0</td>\n",
       "      <td>3.0</td>\n",
       "      <td>1.0</td>\n",
       "      <td>3.0</td>\n",
       "      <td>15.0</td>\n",
       "      <td>2.0</td>\n",
       "    </tr>\n",
       "    <tr>\n",
       "      <th>462187</th>\n",
       "      <td>-0.598017</td>\n",
       "      <td>-0.309033</td>\n",
       "      <td>-0.169311</td>\n",
       "      <td>-0.300393</td>\n",
       "      <td>-0.191114</td>\n",
       "      <td>-1.470109</td>\n",
       "      <td>0.689501</td>\n",
       "      <td>0.215820</td>\n",
       "      <td>-0.377537</td>\n",
       "      <td>0.217657</td>\n",
       "      <td>...</td>\n",
       "      <td>0.716149</td>\n",
       "      <td>0.593754</td>\n",
       "      <td>-0.136688</td>\n",
       "      <td>-0.371165</td>\n",
       "      <td>0.0</td>\n",
       "      <td>1.0</td>\n",
       "      <td>1.0</td>\n",
       "      <td>1.0</td>\n",
       "      <td>9.0</td>\n",
       "      <td>2.0</td>\n",
       "    </tr>\n",
       "    <tr>\n",
       "      <th>462188</th>\n",
       "      <td>1.672193</td>\n",
       "      <td>-0.191771</td>\n",
       "      <td>-0.494991</td>\n",
       "      <td>0.584539</td>\n",
       "      <td>-0.615064</td>\n",
       "      <td>-0.313923</td>\n",
       "      <td>0.337410</td>\n",
       "      <td>-0.236808</td>\n",
       "      <td>1.201397</td>\n",
       "      <td>-0.513348</td>\n",
       "      <td>...</td>\n",
       "      <td>-0.373774</td>\n",
       "      <td>1.410555</td>\n",
       "      <td>-0.136688</td>\n",
       "      <td>2.147209</td>\n",
       "      <td>0.0</td>\n",
       "      <td>3.0</td>\n",
       "      <td>2.0</td>\n",
       "      <td>3.0</td>\n",
       "      <td>16.0</td>\n",
       "      <td>2.0</td>\n",
       "    </tr>\n",
       "    <tr>\n",
       "      <th>462189</th>\n",
       "      <td>1.672193</td>\n",
       "      <td>-0.309033</td>\n",
       "      <td>-0.487920</td>\n",
       "      <td>1.469470</td>\n",
       "      <td>-0.169917</td>\n",
       "      <td>-1.470109</td>\n",
       "      <td>-0.949398</td>\n",
       "      <td>-0.361517</td>\n",
       "      <td>-0.377537</td>\n",
       "      <td>0.948662</td>\n",
       "      <td>...</td>\n",
       "      <td>0.716149</td>\n",
       "      <td>0.990259</td>\n",
       "      <td>-0.136688</td>\n",
       "      <td>-0.371165</td>\n",
       "      <td>0.0</td>\n",
       "      <td>3.0</td>\n",
       "      <td>2.0</td>\n",
       "      <td>4.0</td>\n",
       "      <td>22.0</td>\n",
       "      <td>1.0</td>\n",
       "    </tr>\n",
       "    <tr>\n",
       "      <th>462190</th>\n",
       "      <td>-0.598017</td>\n",
       "      <td>0.629062</td>\n",
       "      <td>0.880132</td>\n",
       "      <td>-0.300393</td>\n",
       "      <td>0.369104</td>\n",
       "      <td>1.131309</td>\n",
       "      <td>1.112848</td>\n",
       "      <td>0.761720</td>\n",
       "      <td>1.201397</td>\n",
       "      <td>-0.696099</td>\n",
       "      <td>...</td>\n",
       "      <td>-0.373774</td>\n",
       "      <td>-0.863121</td>\n",
       "      <td>2.248026</td>\n",
       "      <td>-0.371165</td>\n",
       "      <td>1.0</td>\n",
       "      <td>3.0</td>\n",
       "      <td>1.0</td>\n",
       "      <td>1.0</td>\n",
       "      <td>9.0</td>\n",
       "      <td>2.0</td>\n",
       "    </tr>\n",
       "  </tbody>\n",
       "</table>\n",
       "<p>462191 rows × 21 columns</p>\n",
       "</div>"
      ],
      "text/plain": [
       "            term  loan_amnt  installment  int_rate  annual_inc  emp_length  \\\n",
       "0      -0.598017  -0.358869    -0.324389 -1.326914    1.171580   -0.024876   \n",
       "1      -0.598017  -0.871890    -0.614953  2.544662   -0.387948   -1.181062   \n",
       "2      -0.598017  -0.836712    -0.823949 -1.326914    0.520515    0.264170   \n",
       "3       1.672193  -0.543557    -0.782474  0.591176   -0.357984    0.264170   \n",
       "4      -0.598017  -0.074509     0.201280  0.591176   -0.009422    0.264170   \n",
       "...          ...        ...          ...       ...         ...         ...   \n",
       "462186 -0.598017  -0.358869    -0.145256  0.496045   -0.760418    1.131309   \n",
       "462187 -0.598017  -0.309033    -0.169311 -0.300393   -0.191114   -1.470109   \n",
       "462188  1.672193  -0.191771    -0.494991  0.584539   -0.615064   -0.313923   \n",
       "462189  1.672193  -0.309033    -0.487920  1.469470   -0.169917   -1.470109   \n",
       "462190 -0.598017   0.629062     0.880132 -0.300393    0.369104    1.131309   \n",
       "\n",
       "        revol_util  revol_bal   pub_rec  open_acc  ...  delinq_2yrs       dti  \\\n",
       "0        -1.280531  -0.348224  1.201397  1.496916  ...    -0.373774 -0.165271   \n",
       "1         1.913435  -0.572315 -0.377537 -1.427104  ...    -0.373774 -1.402368   \n",
       "2        -1.091911   0.316323 -0.377537  1.314164  ...    -0.373774 -0.603693   \n",
       "3        -1.393703  -0.474730  2.780331  0.583159  ...    -0.373774 -0.944687   \n",
       "4         1.540387  -0.610936 -0.377537 -1.427104  ...     0.716149 -0.859722   \n",
       "...            ...        ...       ...       ...  ...          ...       ...   \n",
       "462186    0.492498   0.088101 -0.377537 -0.513348  ...    -0.373774  0.977797   \n",
       "462187    0.689501   0.215820 -0.377537  0.217657  ...     0.716149  0.593754   \n",
       "462188    0.337410  -0.236808  1.201397 -0.513348  ...    -0.373774  1.410555   \n",
       "462189   -0.949398  -0.361517 -0.377537  0.948662  ...     0.716149  0.990259   \n",
       "462190    1.112848   0.761720  1.201397 -0.696099  ...    -0.373774 -0.863121   \n",
       "\n",
       "        tax_liens  pub_rec_bankruptcies  loan_status  home_ownership  purpose  \\\n",
       "0       -0.136688              2.147209          1.0             2.0      1.0   \n",
       "1       -0.136688             -0.371165          1.0             3.0      2.0   \n",
       "2       -0.136688             -0.371165          1.0             1.0      2.0   \n",
       "3       -0.136688              4.665582          1.0             3.0      2.0   \n",
       "4       -0.136688             -0.371165          1.0             1.0      2.0   \n",
       "...           ...                   ...          ...             ...      ...   \n",
       "462186  -0.136688             -0.371165          1.0             3.0      1.0   \n",
       "462187  -0.136688             -0.371165          0.0             1.0      1.0   \n",
       "462188  -0.136688              2.147209          0.0             3.0      2.0   \n",
       "462189  -0.136688             -0.371165          0.0             3.0      2.0   \n",
       "462190   2.248026             -0.371165          1.0             3.0      1.0   \n",
       "\n",
       "        grade  sub_grade  verification_status  \n",
       "0         0.0        3.0                  0.0  \n",
       "1         4.0       22.0                  1.0  \n",
       "2         0.0        3.0                  0.0  \n",
       "3         2.0       14.0                  1.0  \n",
       "4         2.0       14.0                  2.0  \n",
       "...       ...        ...                  ...  \n",
       "462186    3.0       15.0                  2.0  \n",
       "462187    1.0        9.0                  2.0  \n",
       "462188    3.0       16.0                  2.0  \n",
       "462189    4.0       22.0                  1.0  \n",
       "462190    1.0        9.0                  2.0  \n",
       "\n",
       "[462191 rows x 21 columns]"
      ]
     },
     "execution_count": 3,
     "metadata": {},
     "output_type": "execute_result"
    }
   ],
   "source": [
    "data_path = '../data/Engineering_loans_final_3.csv'\n",
    "loans = pd.read_csv(data_path)\n",
    "loans"
   ]
  },
  {
   "cell_type": "markdown",
   "metadata": {},
   "source": [
    "* __Splitting the data into train and test set__"
   ]
  },
  {
   "cell_type": "markdown",
   "metadata": {},
   "source": [
    "First we define features and the target variable. Once we have defined it, we split the data."
   ]
  },
  {
   "cell_type": "code",
   "execution_count": 4,
   "metadata": {},
   "outputs": [],
   "source": [
    "X = loans.drop('loan_status', axis = 1)\n",
    "y = loans['loan_status']\n",
    "\n",
    "X_train, X_test, y_train, y_test = train_test_split(X, y, test_size = 0.2, random_state = 12345)"
   ]
  },
  {
   "cell_type": "markdown",
   "metadata": {},
   "source": [
    "* __Fitting the model and Prediction__"
   ]
  },
  {
   "cell_type": "code",
   "execution_count": 5,
   "metadata": {},
   "outputs": [],
   "source": [
    "#MODELO BASELINE\n",
    "\n",
    "modelo_b = DummyClassifier(strategy = 'most_frequent', random_state = 12345)"
   ]
  },
  {
   "cell_type": "code",
   "execution_count": 6,
   "metadata": {},
   "outputs": [
    {
     "data": {
      "text/plain": [
       "DummyClassifier(random_state=12345, strategy='most_frequent')"
      ]
     },
     "execution_count": 6,
     "metadata": {},
     "output_type": "execute_result"
    }
   ],
   "source": [
    "modelo_b.fit(X_train, y_train)"
   ]
  },
  {
   "cell_type": "markdown",
   "metadata": {},
   "source": [
    "* __Accuracy__"
   ]
  },
  {
   "cell_type": "code",
   "execution_count": 7,
   "metadata": {},
   "outputs": [
    {
     "data": {
      "text/plain": [
       "0.7464706455067667"
      ]
     },
     "execution_count": 7,
     "metadata": {},
     "output_type": "execute_result"
    }
   ],
   "source": [
    "modelo_b.score(X_test, y_test)"
   ]
  },
  {
   "cell_type": "markdown",
   "metadata": {},
   "source": [
    "In this case we can see that the accuracy is 74%."
   ]
  },
  {
   "cell_type": "markdown",
   "metadata": {},
   "source": [
    "* __Saving the model__"
   ]
  },
  {
   "cell_type": "code",
   "execution_count": 8,
   "metadata": {},
   "outputs": [],
   "source": [
    "# Saving the model \n",
    "\n",
    "model = modelo_b\n",
    "filename = 'modelo_base.pkl'\n",
    "pickle.dump(model,open(filename,'wb'))"
   ]
  },
  {
   "cell_type": "markdown",
   "metadata": {},
   "source": [
    "## Logistic Regression"
   ]
  },
  {
   "cell_type": "markdown",
   "metadata": {},
   "source": [
    "To validate our model is necessary to split the data set in a training and test set. To do this, the data is randomly divided by applying 80% of the observations to training and the remaining 20% to test."
   ]
  },
  {
   "cell_type": "code",
   "execution_count": 9,
   "metadata": {},
   "outputs": [],
   "source": [
    "# Endogena\n",
    "\n",
    "endogena = ['loan_status'] \n",
    "\n",
    "# Exógenas\n",
    "\n",
    "exogenas = list(set(list(loans.columns))-set(endogena))\n",
    "\n",
    "X = loans[exogenas].values\n",
    "Y = loans[endogena].values"
   ]
  },
  {
   "cell_type": "code",
   "execution_count": 10,
   "metadata": {},
   "outputs": [
    {
     "name": "stdout",
     "output_type": "stream",
     "text": [
      "(553034, 20)\n",
      "(92439, 20)\n",
      "(92439, 1)\n"
     ]
    }
   ],
   "source": [
    "X_train, X_test, Y_train, Y_test = train_test_split(X, Y, test_size=0.20, random_state=12345)\n",
    "\n",
    "sm = SMOTE(random_state=12345)\n",
    "X_train, Y_train = sm.fit_sample(X_train, Y_train)\n",
    "print(X_train.shape); print(X_test.shape); print(Y_test.shape)"
   ]
  },
  {
   "cell_type": "code",
   "execution_count": 12,
   "metadata": {},
   "outputs": [
    {
     "name": "stdout",
     "output_type": "stream",
     "text": [
      "CPU times: user 1min 58s, sys: 829 ms, total: 1min 59s\n",
      "Wall time: 2min 2s\n"
     ]
    }
   ],
   "source": [
    "%%time\n",
    "model_regression = LogisticRegression(random_state=12345, solver=\"saga\", penalty=\"l1\", class_weight=\"balanced\", C=1.0, max_iter=500)\n",
    "model_regression.fit(X_train, Y_train)\n",
    "reg_probs = model_regression.predict_proba(X_train)\n",
    "logit_scores = reg_probs[:,1]"
   ]
  },
  {
   "cell_type": "markdown",
   "metadata": {},
   "source": [
    "* __Fitting the model and Prediction__"
   ]
  },
  {
   "cell_type": "markdown",
   "metadata": {},
   "source": [
    "We make the predictions using the subset above, which is the test set."
   ]
  },
  {
   "cell_type": "code",
   "execution_count": 13,
   "metadata": {},
   "outputs": [],
   "source": [
    "y_pred=model_regression.predict(X_test)"
   ]
  },
  {
   "cell_type": "markdown",
   "metadata": {},
   "source": [
    "## Model Evaluation"
   ]
  },
  {
   "cell_type": "markdown",
   "metadata": {},
   "source": [
    "* __Confussion Matrix__"
   ]
  },
  {
   "cell_type": "markdown",
   "metadata": {},
   "source": [
    "In order to be able to illustrate the confusion matrix, a function called plot_confusion_matrix has been defined, indicating the parameters to be taken into account."
   ]
  },
  {
   "cell_type": "code",
   "execution_count": 14,
   "metadata": {},
   "outputs": [],
   "source": [
    "def plot_confusion_matrix(cm, classes,\n",
    "                          normalize=False,\n",
    "                          title='Confusion matrix',\n",
    "                          cmap=plt.cm.Blues):\n",
    "    #Add Normalization Option\n",
    "    if normalize:\n",
    "        cm = cm.astype('float') / cm.sum(axis=1)[:, np.newaxis]\n",
    "        print(\"Normalized confusion matrix\")\n",
    "    else:\n",
    "        print('Confusion matrix, without normalization')\n",
    "\n",
    "    print(cm)\n",
    "\n",
    "    plt.imshow(cm, interpolation='nearest', cmap=cmap)\n",
    "    plt.title(title)\n",
    "    plt.colorbar()\n",
    "    tick_marks = np.arange(len(classes))\n",
    "    plt.xticks(tick_marks, classes, rotation=45)\n",
    "    plt.yticks(tick_marks, classes)\n",
    "\n",
    "    fmt = '.2f' if normalize else 'd'\n",
    "    thresh = cm.max() / 2.\n",
    "    for i, j in itertools.product(range(cm.shape[0]), range(cm.shape[1])):\n",
    "        plt.text(j, i, format(cm[i, j], fmt),\n",
    "                 horizontalalignment=\"center\",\n",
    "                 color=\"white\" if cm[i, j] > thresh else \"black\")\n",
    "\n",
    "    plt.tight_layout()\n",
    "    plt.ylabel('True label')\n",
    "    plt.xlabel('Predicted label')\n"
   ]
  },
  {
   "cell_type": "markdown",
   "metadata": {},
   "source": [
    "We proceed to graph the confussion matrix:"
   ]
  },
  {
   "cell_type": "code",
   "execution_count": 17,
   "metadata": {
    "scrolled": false
   },
   "outputs": [
    {
     "name": "stdout",
     "output_type": "stream",
     "text": [
      "Confusion matrix, without normalization\n",
      "[[14732  8704]\n",
      " [22103 46900]]\n"
     ]
    },
    {
     "data": {
      "image/png": "[encoded data removed]",
      "text/plain": [
       "<Figure size 432x288 with 2 Axes>"
      ]
     },
     "metadata": {
      "needs_background": "light"
     },
     "output_type": "display_data"
    }
   ],
   "source": [
    "cnf_matrix = confusion_matrix(Y_test, y_pred)\n",
    "plot_confusion_matrix(cnf_matrix, classes=[0,1])"
   ]
  },
  {
   "cell_type": "code",
   "execution_count": 18,
   "metadata": {},
   "outputs": [
    {
     "name": "stdout",
     "output_type": "stream",
     "text": [
      "True Negatives:  14732\n",
      "False Positives:  8704\n",
      "False Negatives:  22103\n",
      "True Positives:  46900\n"
     ]
    }
   ],
   "source": [
    "#extracting true_positives, false_positives, true_negatives, false_negatives\n",
    "tn, fp, fn, tp = confusion_matrix(y_test, y_pred).ravel()\n",
    "print(\"True Negatives: \",tn)\n",
    "print(\"False Positives: \",fp)\n",
    "print(\"False Negatives: \",fn)\n",
    "print(\"True Positives: \",tp)"
   ]
  },
  {
   "cell_type": "markdown",
   "metadata": {},
   "source": [
    "With the confusion matrix we can see that there are 46.900 true positives in total, which means that those loans that have been classified as fully paid are correctly placed.\n",
    "\n",
    "On the other hand, we can see that there are 14.732 true negatives in total, which means that those loans that have been classified as not paid are correctly placed.\n",
    "\n",
    "It can be seen as well, that there is a total of 8.704 and 22.103 false positives and false negatives, respectively. This means that these loans have been misplaced."
   ]
  },
  {
   "cell_type": "markdown",
   "metadata": {},
   "source": [
    "* __Normalized Confussion Matrix__"
   ]
  },
  {
   "cell_type": "code",
   "execution_count": 19,
   "metadata": {},
   "outputs": [],
   "source": [
    "def plot_confusion_matrix(cm, classes,\n",
    "                          normalize=True,\n",
    "                          title='Confusion matrix',\n",
    "                          cmap=plt.cm.Blues):\n",
    "    #Add Normalization Option\n",
    "    if normalize:\n",
    "        cm = cm.astype('float') / cm.sum(axis=1)[:, np.newaxis]\n",
    "        print(\"Normalized confusion matrix\")\n",
    "    else:\n",
    "        print('Confusion matrix, without normalization')\n",
    "\n",
    "    print(cm)\n",
    "\n",
    "    plt.imshow(cm, interpolation='nearest', cmap=cmap)\n",
    "    plt.title(title)\n",
    "    plt.colorbar()\n",
    "    tick_marks = np.arange(len(classes))\n",
    "    plt.xticks(tick_marks, classes, rotation=45)\n",
    "    plt.yticks(tick_marks, classes)\n",
    "\n",
    "    fmt = '.2f' if normalize else 'd'\n",
    "    thresh = cm.max() / 2.\n",
    "    for i, j in itertools.product(range(cm.shape[0]), range(cm.shape[1])):\n",
    "        plt.text(j, i, format(cm[i, j], fmt),\n",
    "                 horizontalalignment=\"center\",\n",
    "                 color=\"white\" if cm[i, j] > thresh else \"black\")\n",
    "\n",
    "    plt.tight_layout()\n",
    "    plt.ylabel('True label')\n",
    "    plt.xlabel('Predicted label')"
   ]
  },
  {
   "cell_type": "code",
   "execution_count": 20,
   "metadata": {},
   "outputs": [
    {
     "name": "stdout",
     "output_type": "stream",
     "text": [
      "Normalized confusion matrix\n",
      "[[0.62860556 0.37139444]\n",
      " [0.32031941 0.67968059]]\n"
     ]
    },
    {
     "data": {
      "image/png": "[encoded data removed]",
      "text/plain": [
       "<Figure size 432x288 with 2 Axes>"
      ]
     },
     "metadata": {
      "needs_background": "light"
     },
     "output_type": "display_data"
    }
   ],
   "source": [
    "cnf_matrix = confusion_matrix(Y_test, y_pred)\n",
    "plot_confusion_matrix(cnf_matrix, classes=[0,1])"
   ]
  },
  {
   "cell_type": "code",
   "execution_count": 21,
   "metadata": {},
   "outputs": [
    {
     "data": {
      "text/plain": [
       "0.6667315743355078"
      ]
     },
     "execution_count": 21,
     "metadata": {},
     "output_type": "execute_result"
    }
   ],
   "source": [
    "model_regression.score(X_test, Y_test)"
   ]
  },
  {
   "cell_type": "markdown",
   "metadata": {},
   "source": [
    "* __Precision, Accuracy, Recall, F1-score and Support__"
   ]
  },
  {
   "cell_type": "code",
   "execution_count": 22,
   "metadata": {},
   "outputs": [
    {
     "name": "stdout",
     "output_type": "stream",
     "text": [
      "Logistic Regression\n",
      "              precision    recall  f1-score   support\n",
      "\n",
      "         0.0       0.40      0.63      0.49     23436\n",
      "         1.0       0.84      0.68      0.75     69003\n",
      "\n",
      "    accuracy                           0.67     92439\n",
      "   macro avg       0.62      0.65      0.62     92439\n",
      "weighted avg       0.73      0.67      0.69     92439\n",
      "\n",
      "Accuracy of Logistic Regression classifier on test set: 0.67\n",
      "\n"
     ]
    }
   ],
   "source": [
    "print('Logistic Regression')\n",
    "print(classification_report(Y_test,y_pred))\n",
    "print('Accuracy of Logistic Regression classifier on test set: {:.2f}'.format(model_regression.score(X_test, Y_test)))\n",
    "print('')"
   ]
  },
  {
   "cell_type": "markdown",
   "metadata": {},
   "source": [
    "In this case we can see that the accuracy is 67%."
   ]
  },
  {
   "cell_type": "markdown",
   "metadata": {},
   "source": [
    "* __ROC Curve__"
   ]
  },
  {
   "cell_type": "code",
   "execution_count": 23,
   "metadata": {},
   "outputs": [
    {
     "data": {
      "image/png": "[encoded data removed]",
      "text/plain": [
       "<Figure size 432x288 with 1 Axes>"
      ]
     },
     "metadata": {
      "needs_background": "light"
     },
     "output_type": "display_data"
    },
    {
     "name": "stdout",
     "output_type": "stream",
     "text": [
      "Logistic Regression score train:  0.6564623513201719\n",
      "Logistic Regression score:  0.6667315743355078\n"
     ]
    }
   ],
   "source": [
    "metrics.plot_roc_curve(model_regression, X_test, Y_test)\n",
    "plt.show()                     \n",
    "print(\"Logistic Regression score train: \", model_regression.score(X_train, Y_train))\n",
    "print(\"Logistic Regression score: \", model_regression.score(X_test, Y_test))"
   ]
  },
  {
   "cell_type": "markdown",
   "metadata": {},
   "source": [
    "* **Errors**"
   ]
  },
  {
   "cell_type": "code",
   "execution_count": 25,
   "metadata": {},
   "outputs": [
    {
     "name": "stdout",
     "output_type": "stream",
     "text": [
      "Mean Absolute Error: 0.3332684256644923\n",
      "Mean Squared Error: 0.3332684256644923\n",
      "Root Mean Squared Error: 0.5772940547628151\n"
     ]
    }
   ],
   "source": [
    "print('Mean Absolute Error:', metrics.mean_absolute_error(Y_test, y_pred))  \n",
    "print('Mean Squared Error:', metrics.mean_squared_error(Y_test, y_pred))  \n",
    "print('Root Mean Squared Error:', np.sqrt(metrics.mean_squared_error(Y_test, y_pred)))"
   ]
  },
  {
   "cell_type": "markdown",
   "metadata": {},
   "source": [
    "* __Saving the model__ "
   ]
  },
  {
   "cell_type": "code",
   "execution_count": 26,
   "metadata": {},
   "outputs": [],
   "source": [
    "model = model_regression\n",
    "filename = 'modelo_regresion.pkl'\n",
    "pickle.dump(model,open(filename,'wb'))"
   ]
  }
 ],
 "metadata": {
  "kernelspec": {
   "display_name": "prestamos_env",
   "language": "python",
   "name": "prestamos_env"
  },
  "language_info": {
   "codemirror_mode": {
    "name": "ipython",
    "version": 3
   },
   "file_extension": ".py",
   "mimetype": "text/x-python",
   "name": "python",
   "nbconvert_exporter": "python",
   "pygments_lexer": "ipython3",
   "version": "3.8.3"
  }
 },
 "nbformat": 4,
 "nbformat_minor": 4
}
